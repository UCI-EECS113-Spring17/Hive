{
 "cells": [
  {
   "cell_type": "code",
   "execution_count": null,
   "metadata": {
    "collapsed": false,
    "deletable": true,
    "editable": true
   },
   "outputs": [],
   "source": [
    "from time import sleep\n",
    "from pynq import Overlay\n",
    "from pynq.board import LED\n",
    "from pynq.board import RGBLED\n",
    "from pynq.board import Button\n",
    "from pynq.board import Switch\n",
    "from pynq.iop import Grove_Light\n",
    "from pynq.iop import Grove_ADC\n",
    "from pynq.iop import PMODA\n",
    "from pynq.iop import PMOD_GROVE_G4\n",
    "import asyncio\n",
    "from IPython.display import display\n",
    "from ipywidgets import widgets\n",
    "\n",
    "\n",
    "val = 0.0\n",
    "adc = Grove_ADC(PMODA,PMOD_GROVE_G4)\n",
    "light = Grove_Light(PMODA,PMOD_GROVE_G4)\n",
    "\n",
    "\n",
    "print(\"Starting detection...\")\n",
    "print(\"Note: Higher values mean it is dark, lower values are light\")\n",
    "print(\"Minimum value seems to be around 6\")\n",
    "\n",
    "while True:\n",
    "    sleep(0.5)\n",
    "    val = light.read()\n",
    "    print(\"The light sensor value is: %.2f\" % val)"
   ]
  }
 ],
 "metadata": {
  "kernelspec": {
   "display_name": "Python 3",
   "language": "python",
   "name": "python3"
  },
  "language_info": {
   "codemirror_mode": {
    "name": "ipython",
    "version": 3
   },
   "file_extension": ".py",
   "mimetype": "text/x-python",
   "name": "python",
   "nbconvert_exporter": "python",
   "pygments_lexer": "ipython3",
   "version": "3.6.0"
  }
 },
 "nbformat": 4,
 "nbformat_minor": 2
}
