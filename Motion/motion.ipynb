{
 "cells": [
  {
   "cell_type": "code",
   "execution_count": 2,
   "metadata": {
    "collapsed": false
   },
   "outputs": [
    {
     "name": "stdout",
     "output_type": "stream",
     "text": [
      "Motion sensor returned 1\n"
     ]
    }
   ],
   "source": [
    "from pynq import Overlay\n",
    "from pynq.iop import Grove_PIR\n",
    "from pynq.iop import PMODA\n",
    "from pynq.iop import PMOD_GROVE_G1\n",
    "\n",
    "def main():\n",
    "    print(\"Motion sensor returned\",readMotion())\n",
    "    \n",
    "def readMotion():\n",
    "    pir = Grove_PIR(PMODA,PMOD_GROVE_G1)\n",
    "    return pir.read()\n",
    "\n",
    "if __name__ == \"__main__\":\n",
    "    main()"
   ]
  }
 ],
 "metadata": {
  "kernelspec": {
   "display_name": "Python 3",
   "language": "python",
   "name": "python3"
  },
  "language_info": {
   "codemirror_mode": {
    "name": "ipython",
    "version": 3
   },
   "file_extension": ".py",
   "mimetype": "text/x-python",
   "name": "python",
   "nbconvert_exporter": "python",
   "pygments_lexer": "ipython3",
   "version": "3.6.0"
  }
 },
 "nbformat": 4,
 "nbformat_minor": 2
}
