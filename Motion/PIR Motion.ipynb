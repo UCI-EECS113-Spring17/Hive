{
 "cells": [
  {
   "cell_type": "code",
   "execution_count": null,
   "metadata": {
    "collapsed": false,
    "deletable": true,
    "editable": true
   },
   "outputs": [
    {
     "name": "stderr",
     "output_type": "stream",
     "text": [
      "Widget Javascript not detected.  It may not be installed properly. Did you enable the widgetsnbextension? If not, then run \"jupyter nbextension enable --py --sys-prefix widgetsnbextension\"\n"
     ]
    },
    {
     "name": "stdout",
     "output_type": "stream",
     "text": [
      "Starting detection...\n"
     ]
    }
   ],
   "source": [
    "from time import sleep\n",
    "from pynq import Overlay\n",
    "from pynq.board import LED\n",
    "from pynq.board import RGBLED\n",
    "from pynq.board import Button\n",
    "from pynq.board import Switch\n",
    "from pynq.iop import Grove_PIR\n",
    "from pynq.iop import PMODA\n",
    "from pynq.iop import PMOD_GROVE_G1\n",
    "import asyncio\n",
    "from IPython.display import display\n",
    "from ipywidgets import widgets\n",
    "\n",
    "ol1 = Overlay(\"base.bit\")\n",
    "ol1.download()\n",
    "\n",
    "pir = Grove_PIR(PMODA,PMOD_GROVE_G1)\n",
    "\n",
    "MAX_BUTTONS = 4\n",
    "MAX_SWITCHES = 2\n",
    "\n",
    "switch = [0] * MAX_SWITCHES\n",
    "btns = [0] * MAX_BUTTONS\n",
    "rgbled = [0] * 2\n",
    "\n",
    "# led = LED(0)\n",
    "rgbled[0] = RGBLED(4)\n",
    "rgbled[1] = RGBLED(5)\n",
    "rgbled[0].off()\n",
    "rgbled[1].off()\n",
    "\n",
    "for i in range(MAX_BUTTONS):\n",
    "    btns[i] = Button(i)\n",
    "for i in range(MAX_SWITCHES):\n",
    "    switch[i] = Switch(i)\n",
    "alarmButton = widgets.Button(\n",
    "                description='Toggle Standby',\n",
    "                disabled=False,\n",
    "                button_style='', # 'success', 'info', 'warning', 'danger' or ''\n",
    "               tooltip='Click me',\n",
    "               icon='check'\n",
    ")\n",
    "display(alarmButton)\n",
    "\n",
    "swStandby = False\n",
    "def toggleStandby(b):\n",
    "        if swStandby:\n",
    "            print(\"swStandby = False\")\n",
    "            swStandby = False\n",
    "        else:\n",
    "            print(\"swStandby = True\")\n",
    "            swStandby = True\n",
    "        return\n",
    "alarmButton.on_click(toggleStandby)\n",
    "print(\"Starting detection...\")\n",
    "\n",
    "while True:\n",
    "    sleep(0.5)\n",
    "    if (switch[0].read()==0 and switch[1].read()==0) or swStandby:\n",
    "        # standby\n",
    "        sleep(0.2)\n",
    "        continue\n",
    "    if switch[0].read()==1 and switch[1].read()==0:\n",
    "        # monitoring on, alarm off\n",
    "        while True:\n",
    "            if pir.read()==1:\n",
    "                # green light on\n",
    "                rgbled[0].on(2)\n",
    "                rgbled[1].on(2)\n",
    "                sleep(0.1)\n",
    "            else:\n",
    "                rgbled[0].off()\n",
    "                rgbled[1].off()\n",
    "                break\n",
    "        continue\n",
    "    if switch[0].read()==0 and switch[1].read()==1:\n",
    "        # standby\n",
    "        sleep(0.2)\n",
    "        continue\n",
    "    if switch[0].read()==1 and switch[1].read()==1:\n",
    "        # alarm on\n",
    "        while pir.read()==1:\n",
    "            # flash red\n",
    "            rgbled[0].on(4)\n",
    "            rgbled[1].on(4)\n",
    "            sleep(0.1)\n",
    "            rgbled[0].off()\n",
    "            rgbled[1].off()\n",
    "            sleep(0.1)\n",
    "            if pir.read()==0:\n",
    "                break\n",
    "    \n",
    "# led.off()\n",
    "rgbled[0].off()\n",
    "rgbled[1].off()\n",
    "del pir\n",
    "# del led\n",
    "del rgbled\n",
    "del btns\n",
    "del ol1"
   ]
  }
 ],
 "metadata": {
  "kernelspec": {
   "display_name": "Python 3",
   "language": "python",
   "name": "python3"
  },
  "language_info": {
   "codemirror_mode": {
    "name": "ipython",
    "version": 3
   },
   "file_extension": ".py",
   "mimetype": "text/x-python",
   "name": "python",
   "nbconvert_exporter": "python",
   "pygments_lexer": "ipython3",
   "version": "3.6.0"
  },
  "widgets": {
   "state": {
    "6d6e74cdcdc040adac0aae447a83e22b": {
     "views": [
      {
       "cell_index": 0
      }
     ]
    }
   },
   "version": "1.2.0"
  }
 },
 "nbformat": 4,
 "nbformat_minor": 2
}
